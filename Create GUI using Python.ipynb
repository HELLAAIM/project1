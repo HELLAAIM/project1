{
 "cells": [
  {
   "cell_type": "code",
   "execution_count": 1,
   "id": "86ac9e4b",
   "metadata": {},
   "outputs": [],
   "source": [
    "# import library\n",
    "import pandas as pd\n",
    "import numpy as np\n",
    "import tkinter as tk"
   ]
  },
  {
   "cell_type": "code",
   "execution_count": 9,
   "id": "3574811b",
   "metadata": {},
   "outputs": [],
   "source": [
    "def prediksi():\n",
    "    x = ent_varx.get()\n",
    "    X = np.array(float(x)).reshape(-1,1)\n",
    "    y = ent_vary.get()\n",
    "    Y = np.array(float(y)).reshape(-1,1)\n",
    "    \n",
    "    ratarata = 0.5 * (X + Y)\n",
    "    ratarata = float(ratarata)\n",
    "    \n",
    "    hasil[\"text\"] = f\"{round(ratarata, 3)}\""
   ]
  },
  {
   "cell_type": "code",
   "execution_count": 8,
   "id": "e1bec539",
   "metadata": {},
   "outputs": [],
   "source": [
    "# set window\n",
    "window = tk.Tk()\n",
    "window.title(\"Prediksi Populasi\")\n",
    "window.resizable(width = True, height = True)\n",
    "\n",
    "# membuat widget untuk masukan / inputan\n",
    "frm_entry = tk.Frame(master = window)\n",
    "ent_varx = tk.Entry(master = frm_entry, width = 10)\n",
    "lbl_varx = tk.Label(master = frm_entry, text=\"Var X\")\n",
    "\n",
    "ent_vary = tk.Entry(master = frm_entry, width = 10)\n",
    "lbl_vary = tk.Label(master = frm_entry, text=\"Var Y\")\n",
    "\n",
    "# layout from masukan dengan .grid() geometry manager\n",
    "ent_varx.grid(row = 0, column = 1, sticky = \"e\")\n",
    "lbl_varx.grid(row = 0, column = 0, sticky = \"w\")\n",
    "ent_vary.grid(row = 1, column = 1, sticky = \"e\")\n",
    "lbl_vary.grid(row = 1, column = 0, sticky = \"w\")\n",
    "\n",
    "#membuat tombol\n",
    "btn_convert = tk.Button(\n",
    "    master = window,\n",
    "    text = \" Hitung Rata-rata\",\n",
    "    command = prediksi\n",
    ")\n",
    "\n",
    "# set up layout hasil\n",
    "hasil = tk.Label(master = frm_entry, width = 10)\n",
    "lbl_rata = tk.Label(master = frm_entry, text = \"Hasil Rata-rata = \")\n",
    "frm_entry.grid(row = 0, column = 1, padx = 10)\n",
    "btn_convert.grid(row = 1, column = 1, pady = 10)\n",
    "hasil.grid(row = 4, column = 1, sticky = \"w\")\n",
    "lbl_rata.grid(row = 4, column = 0, sticky = \"w\")\n",
    "\n",
    "#menjalankan aplikasi\n",
    "window.mainloop()"
   ]
  }
 ],
 "metadata": {
  "kernelspec": {
   "display_name": "Python 3 (ipykernel)",
   "language": "python",
   "name": "python3"
  },
  "language_info": {
   "codemirror_mode": {
    "name": "ipython",
    "version": 3
   },
   "file_extension": ".py",
   "mimetype": "text/x-python",
   "name": "python",
   "nbconvert_exporter": "python",
   "pygments_lexer": "ipython3",
   "version": "3.9.7"
  }
 },
 "nbformat": 4,
 "nbformat_minor": 5
}
