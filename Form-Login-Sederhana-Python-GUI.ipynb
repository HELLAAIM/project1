{
 "cells": [
  {
   "cell_type": "code",
   "execution_count": 1,
   "id": "c4136596",
   "metadata": {},
   "outputs": [],
   "source": [
    "# import library\n",
    "import pandas as pd\n",
    "import numpy as np\n",
    "import tkinter as tk"
   ]
  },
  {
   "cell_type": "code",
   "execution_count": 61,
   "id": "882cd2c9",
   "metadata": {},
   "outputs": [],
   "source": [
    "# set window\n",
    "window = tk.Tk()\n",
    "window.geometry(\"250x100\")\n",
    "window.title(\"Login\")\n",
    "window.resizable(0,0)\n",
    "\n",
    "#set grid\n",
    "window.columnconfigure(0, weight = 0)\n",
    "window.columnconfigure(1, weight = 3)\n",
    "\n",
    "#nama\n",
    "nama_label = tk.Label(window, text = \"Nama Lengkap \")\n",
    "nama_label.grid(column = 0, row = 0, sticky = tk.W, padx = 5, pady = 5)\n",
    "\n",
    "nama_inputan = tk.Entry(window)\n",
    "nama_inputan.grid(column = 1, row = 0, sticky = tk.NS, padx = 5, pady = 5)\n",
    "\n",
    "#password\n",
    "password_label = tk.Label(window, text = \"Password \")\n",
    "password_label.grid(column = 0, row = 1, sticky = tk.W, padx = 5, pady = 5)\n",
    "\n",
    "password_inputan = tk.Entry(window, show = \"*\")\n",
    "password_inputan.grid(column = 1, row = 1, sticky = tk.NS, padx = 5, pady = 5)\n",
    "\n",
    "#button\n",
    "button_label = tk.Button(window, text = \" Masuk \")\n",
    "button_label.grid(column = 1, row = 2, sticky = tk.E, padx = 15, pady = 5)\n",
    "\n",
    "window.mainloop()\n"
   ]
  },
  {
   "cell_type": "code",
   "execution_count": 60,
   "id": "b04152ba",
   "metadata": {},
   "outputs": [],
   "source": [
    "#OOP\n",
    "\n",
    "class App(tk.Tk):\n",
    "    def __init__(window):\n",
    "        super().__init__()\n",
    "        \n",
    "        window.geometry(\"250x100\")\n",
    "        window.title(\"Login\")\n",
    "        window.resizable(0,0)\n",
    "        \n",
    "        #set grid\n",
    "        window.columnconfigure(0, weight = 0)\n",
    "        window.columnconfigure(1, weight = 3)\n",
    "        \n",
    "        window.create_widgets()\n",
    "        \n",
    "    def create_widgets(window):\n",
    "        #nama\n",
    "        nama_label = tk.Label(window, text = \"Nama Lengkap \")\n",
    "        nama_label.grid(column = 0, row = 0, sticky = tk.W, padx = 5, pady = 5)\n",
    "\n",
    "        nama_inputan = tk.Entry(window)\n",
    "        nama_inputan.grid(column = 1, row = 0, sticky = tk.NS, padx = 5, pady = 5)\n",
    "\n",
    "        #password\n",
    "        password_label = tk.Label(window, text = \"Password \")\n",
    "        password_label.grid(column = 0, row = 1, sticky = tk.W, padx = 5, pady = 5)\n",
    "\n",
    "        password_inputan = tk.Entry(window, show = \"*\")\n",
    "        password_inputan.grid(column = 1, row = 1, sticky = tk.NS, padx = 5, pady = 5)\n",
    "\n",
    "        #button\n",
    "        button_label = tk.Button(window, text = \" Masuk \")\n",
    "        button_label.grid(column = 1, row = 2, sticky = tk.E, padx = 15, pady = 5)\n",
    "\n",
    "if __name__ == \"__main__\":\n",
    "    app = App()\n",
    "    app.mainloop()\n",
    "        "
   ]
  }
 ],
 "metadata": {
  "kernelspec": {
   "display_name": "Python 3 (ipykernel)",
   "language": "python",
   "name": "python3"
  },
  "language_info": {
   "codemirror_mode": {
    "name": "ipython",
    "version": 3
   },
   "file_extension": ".py",
   "mimetype": "text/x-python",
   "name": "python",
   "nbconvert_exporter": "python",
   "pygments_lexer": "ipython3",
   "version": "3.9.7"
  }
 },
 "nbformat": 4,
 "nbformat_minor": 5
}
