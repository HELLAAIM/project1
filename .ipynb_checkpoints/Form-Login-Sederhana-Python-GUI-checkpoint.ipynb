{
 "cells": [
  {
   "cell_type": "code",
   "execution_count": 1,
   "id": "94da0fd5",
   "metadata": {},
   "outputs": [],
   "source": [
    "# import library\n",
    "import pandas as pd\n",
    "import numpy as np\n",
    "import tkinter as tk"
   ]
  },
  {
   "cell_type": "code",
   "execution_count": 2,
   "id": "43583b04",
   "metadata": {},
   "outputs": [
    {
     "data": {
      "text/plain": [
       "''"
      ]
     },
     "execution_count": 2,
     "metadata": {},
     "output_type": "execute_result"
    }
   ],
   "source": []
  },
  {
   "cell_type": "code",
   "execution_count": null,
   "id": "7d900190",
   "metadata": {},
   "outputs": [],
   "source": [
    "# set window\n",
    "window = tk.Tk()\n",
    "window.title(\"Prediksi Populasi\")\n",
    "window.resizable(width = True, height = False)\n",
    "\n",
    "# membuat widget untuk masukan / inputan\n",
    "frm_entry = tk.Frame(master = window)\n",
    "ent_varx = tk.Entry(master = frm_entry, width = 10)\n",
    "lbl_varx = tk.Label(master = frm_entry, text=\"Var X\")\n",
    "\n",
    "# layout from masukan dengan .grid() geometry manager\n",
    "ent_varx.grid(row = 0, column = 1, sticky = \"ns\")\n",
    "lbl_varx.grid(row = 0, column = 0, sticky = \"w\")\n",
    "\n",
    "#membuat tombol\n",
    "btn_convert = tk.Button(\n",
    "    master = window,\n",
    "    text = \" Hitung Rata-rata\",\n",
    "    #command = prediksi\n",
    ")\n",
    "\n",
    "# set up layout hasil\n",
    "hasil = tk.Label(master = frm_entry, width = 10)\n",
    "lbl_rata = tk.Label(master = frm_entry, text = \"Hasil Rata-rata = \")\n",
    "frm_entry.grid(row = 0, column = 1, padx = 10)\n",
    "btn_convert.grid(row = 1, column = 1, pady = 10)\n",
    "hasil.grid(row = 4, column = 1, sticky = \"w\")\n",
    "lbl_rata.grid(row = 4, column = 0, sticky = \"w\")\n",
    "\n",
    "#menjalankan aplikasi\n",
    "window.mainloop()"
   ]
  }
 ],
 "metadata": {
  "kernelspec": {
   "display_name": "Python 3 (ipykernel)",
   "language": "python",
   "name": "python3"
  },
  "language_info": {
   "codemirror_mode": {
    "name": "ipython",
    "version": 3
   },
   "file_extension": ".py",
   "mimetype": "text/x-python",
   "name": "python",
   "nbconvert_exporter": "python",
   "pygments_lexer": "ipython3",
   "version": "3.9.7"
  }
 },
 "nbformat": 4,
 "nbformat_minor": 5
}
